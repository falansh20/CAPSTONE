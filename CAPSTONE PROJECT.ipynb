{
  "cells": [
    {
      "cell_type": "markdown",
      "metadata": {
        "id": "view-in-github",
        "colab_type": "text"
      },
      "source": [
        "<a href=\"https://colab.research.google.com/github/falansh20/CAPSTONE/blob/main/CAPSTONE%20PROJECT.ipynb\" target=\"_parent\"><img src=\"https://colab.research.google.com/assets/colab-badge.svg\" alt=\"Open In Colab\"/></a>"
      ]
    },
    {
      "cell_type": "markdown",
      "metadata": {
        "id": "VTvr4_sti9Am"
      },
      "source": [
        "# Introduction\n"
      ]
    },
    {
      "cell_type": "markdown",
      "metadata": {
        "id": "Rm8HKcygh4L2"
      },
      "source": [
        "This sample notebook demonstrates how to process live data streams using Pathway. The dataset used here is a subset of the one provided — specifically, it includes data for only a single parking spot. You are expected to implement your model across all parking spots.\n",
        "\n",
        "Please note that the pricing model used in this notebook is a simple baseline. You are expected to design and implement a more advanced and effective model.\n"
      ]
    },
    {
      "cell_type": "code",
      "execution_count": null,
      "metadata": {
        "id": "LlwkKnB50IGF"
      },
      "outputs": [],
      "source": [
        "!pip install pathway bokeh --quiet # This cell may take a few seconds to execute."
      ]
    },
    {
      "cell_type": "code",
      "execution_count": null,
      "metadata": {
        "id": "pHuc1nkJveN3"
      },
      "outputs": [],
      "source": [
        "import numpy as np\n",
        "import pandas as pd\n",
        "import matplotlib.pyplot as plt\n",
        "import datetime\n",
        "from datetime import datetime\n",
        "import pathway as pw\n",
        "import bokeh.plotting\n",
        "import panel as pn"
      ]
    },
    {
      "cell_type": "markdown",
      "metadata": {
        "id": "gGpZl1FxjFXE"
      },
      "source": [
        "# Step 1: Importing and Preprocessing the Data"
      ]
    },
    {
      "cell_type": "code",
      "execution_count": null,
      "metadata": {
        "id": "4D6geoV9veN3"
      },
      "outputs": [],
      "source": [
        "df = pd.read_csv('dataset.csv')\n",
        "df\n",
        "\n",
        "# You can find the sample dataset here: https://drive.google.com/file/d/1D479FLjp9aO3Mg8g6Lpj9oRViWacurA6/view?usp=sharing"
      ]
    },
    {
      "cell_type": "code",
      "execution_count": null,
      "metadata": {
        "id": "QBrvlQTjveN4"
      },
      "outputs": [],
      "source": [
        "# Combine the 'LastUpdatedDate' and 'LastUpdatedTime' columns into a single datetime column\n",
        "df['Timestamp'] = pd.to_datetime(df['LastUpdatedDate'] + ' ' + df['LastUpdatedTime'],\n",
        "                                  format='%d-%m-%Y %H:%M:%S')\n",
        "\n",
        "# Sort the DataFrame by the new 'Timestamp' column and reset the index\n",
        "df = df.sort_values('Timestamp').reset_index(drop=True)"
      ]
    },
    {
      "cell_type": "code",
      "execution_count": null,
      "metadata": {
        "id": "c52UkGGpveN5"
      },
      "outputs": [],
      "source": [
        "# Save the selected columns to a CSV file for streaming or downstream processing\n",
        "df[[\"Timestamp\", \"Occupancy\", \"Capacity\"]].to_csv(\"parking_stream.csv\", index=False)\n",
        "\n",
        "# Note: Only three features are used here for simplicity.\n",
        "# Participants are expected to incorporate additional relevant features in their models."
      ]
    },
    {
      "cell_type": "code",
      "execution_count": null,
      "metadata": {
        "id": "H0pe3TGIyKJE"
      },
      "outputs": [],
      "source": [
        "# Define the schema for the streaming data using Pathway\n",
        "# This schema specifies the expected structure of each data row in the stream\n",
        "\n",
        "class ParkingSchema(pw.Schema):\n",
        "    Timestamp: str   # Timestamp of the observation (should ideally be in ISO format)\n",
        "    Occupancy: int   # Number of occupied parking spots\n",
        "    Capacity: int    # Total parking capacity at the location\n"
      ]
    },
    {
      "cell_type": "code",
      "execution_count": null,
      "metadata": {
        "id": "a4LxMh4xziMv"
      },
      "outputs": [],
      "source": [
        "# Load the data as a simulated stream using Pathway's replay_csv function\n",
        "# This replays the CSV data at a controlled input rate to mimic real-time streaming\n",
        "# input_rate=1000 means approximately 1000 rows per second will be ingested into the stream.\n",
        "\n",
        "data = pw.demo.replay_csv(\"parking_stream.csv\", schema=ParkingSchema, input_rate=1000)"
      ]
    },
    {
      "cell_type": "code",
      "execution_count": null,
      "metadata": {
        "id": "IkBP_AA-zjec"
      },
      "outputs": [],
      "source": [
        "# Define the datetime format to parse the 'Timestamp' column\n",
        "fmt = \"%Y-%m-%d %H:%M:%S\"\n",
        "\n",
        "# Add new columns to the data stream:\n",
        "# - 't' contains the parsed full datetime\n",
        "# - 'day' extracts the date part and resets the time to midnight (useful for day-level aggregations)\n",
        "data_with_time = data.with_columns(\n",
        "    t = data.Timestamp.dt.strptime(fmt),\n",
        "    day = data.Timestamp.dt.strptime(fmt).dt.strftime(\"%Y-%m-%dT00:00:00\")\n",
        ")\n"
      ]
    },
    {
      "cell_type": "markdown",
      "metadata": {
        "id": "JNDR7r4DqkhI"
      },
      "source": [
        "# Step 2: Making a simple pricing function"
      ]
    },
    {
      "cell_type": "code",
      "execution_count": null,
      "metadata": {
        "id": "MznsSjanveN5"
      },
      "outputs": [],
      "source": [
        "# Define a daily tumbling window over the data stream using Pathway\n",
        "# This block performs temporal aggregation and computes a dynamic price for each day\n",
        "import datetime\n",
        "\n",
        "delta_window = (\n",
        "    data_with_time.windowby(\n",
        "        pw.this.t,  # Event time column to use for windowing (parsed datetime)\n",
        "        instance=pw.this.day,  # Logical partitioning key: one instance per calendar day\n",
        "        window=pw.temporal.tumbling(datetime.timedelta(days=1)),  # Fixed-size daily window\n",
        "        behavior=pw.temporal.exactly_once_behavior()  # Guarantees exactly-once processing semantics\n",
        "    )\n",
        "    .reduce(\n",
        "        t=pw.this._pw_window_end,                        # Assign the end timestamp of each window\n",
        "        occ_max=pw.reducers.max(pw.this.Occupancy),      # Highest occupancy observed in the window\n",
        "        occ_min=pw.reducers.min(pw.this.Occupancy),      # Lowest occupancy observed in the window\n",
        "        cap=pw.reducers.max(pw.this.Capacity),           # Maximum capacity observed (typically constant per spot)\n",
        "    )\n",
        "    .with_columns(\n",
        "        # Compute the price using a simple dynamic pricing formula:\n",
        "        #\n",
        "        # Pricing Formula:\n",
        "        #     price = base_price + demand_fluctuation\n",
        "        #     where:\n",
        "        #         base_price = 10 (fixed minimum price)\n",
        "        #         demand_fluctuation = (occ_max - occ_min) / cap\n",
        "        #\n",
        "        # Intuition:\n",
        "        # - The greater the difference between peak and low occupancy in a day,\n",
        "        #   the more volatile the demand is, indicating potential scarcity.\n",
        "        # - Dividing by capacity normalizes the fluctuation (to stay in [0,1] range).\n",
        "        # - This fluctuation is added to the base price of 10 to set the final price.\n",
        "        # - Example: If occ_max = 90, occ_min = 30, cap = 100\n",
        "        #            => price = 10 + (90 - 30)/100 = 10 + 0.6 = 10.6\n",
        "\n",
        "        price=10 + (pw.this.occ_max - pw.this.occ_min) / pw.this.cap\n",
        "    )\n",
        ")\n"
      ]
    },
    {
      "cell_type": "markdown",
      "metadata": {
        "id": "E3sMSFtUqvax"
      },
      "source": [
        "# Step 3: Visualizing Daily Price Fluctuations with a Bokeh Plot"
      ]
    },
    {
      "cell_type": "markdown",
      "metadata": {
        "id": "POd-S7QMo9JA"
      },
      "source": [
        "**Note:** The Bokeh plot in the next cell will only be generated after you run the `pw.run()` cell (i.e., the final cell).\n"
      ]
    },
    {
      "cell_type": "code",
      "execution_count": null,
      "metadata": {
        "id": "fOL3BJcGveN5"
      },
      "outputs": [],
      "source": [
        "# Activate the Panel extension to enable interactive visualizations\n",
        "pn.extension()\n",
        "\n",
        "# Define a custom Bokeh plotting function that takes a data source (from Pathway) and returns a figure\n",
        "def price_plotter(source):\n",
        "    # Create a Bokeh figure with datetime x-axis\n",
        "    fig = bokeh.plotting.figure(\n",
        "        height=400,\n",
        "        width=800,\n",
        "        title=\"Pathway: Daily Parking Price\",\n",
        "        x_axis_type=\"datetime\",  # Ensure time-based data is properly formatted on the x-axis\n",
        "    )\n",
        "    # Plot a line graph showing how the price evolves over time\n",
        "    fig.line(\"t\", \"price\", source=source, line_width=2, color=\"navy\")\n",
        "\n",
        "    # Overlay red circles at each data point for better visibility\n",
        "    fig.circle(\"t\", \"price\", source=source, size=6, color=\"red\")\n",
        "\n",
        "    return fig\n",
        "\n",
        "# Use Pathway's built-in .plot() method to bind the data stream (delta_window) to the Bokeh plot\n",
        "# - 'price_plotter' is the rendering function\n",
        "# - 'sorting_col=\"t\"' ensures the data is plotted in time order\n",
        "viz = delta_window.plot(price_plotter, sorting_col=\"t\")\n",
        "\n",
        "# Create a Panel layout and make it servable as a web app\n",
        "# This line enables the interactive plot to be displayed when the app is served\n",
        "pn.Column(viz).servable()"
      ]
    },
    {
      "cell_type": "code",
      "execution_count": 13,
      "metadata": {
        "id": "0IHWGcX6veN6"
      },
      "outputs": [],
      "source": [
        "# Start the Pathway pipeline execution in the background\n",
        "# - This triggers the real-time data stream processing defined above\n",
        "# - %%capture --no-display suppresses output in the notebook interface\n",
        "\n",
        "%%capture --no-display\n",
        "pw.run()"
      ]
    },
    {
      "cell_type": "code",
      "execution_count": null,
      "metadata": {
        "id": "pklSMqmRp1Gh"
      },
      "outputs": [],
      "source": []
    }
  ],
  "metadata": {
    "colab": {
      "provenance": [],
      "include_colab_link": true
    },
    "kaggle": {
      "accelerator": "none",
      "dataSources": [
        {
          "datasetId": 7749157,
          "sourceId": 12294858,
          "sourceType": "datasetVersion"
        }
      ],
      "dockerImageVersionId": 31040,
      "isGpuEnabled": false,
      "isInternetEnabled": true,
      "language": "python",
      "sourceType": "notebook"
    },
    "kernelspec": {
      "display_name": "Python 3",
      "language": "python",
      "name": "python3"
    },
    "language_info": {
      "codemirror_mode": {
        "name": "ipython",
        "version": 3
      },
      "file_extension": ".py",
      "mimetype": "text/x-python",
      "name": "python",
      "nbconvert_exporter": "python",
      "pygments_lexer": "ipython3",
      "version": "3.11.11"
    }
  },
  "nbformat": 4,
  "nbformat_minor": 0
}